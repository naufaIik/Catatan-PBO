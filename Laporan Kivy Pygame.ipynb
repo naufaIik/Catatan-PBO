{
 "cells": [
  {
   "cell_type": "markdown",
   "metadata": {},
   "source": [
    "# LAPORAN PROJECT\n",
    "# “BAHASA PEMROGRAMAN PYGAME DAN KIVY”\n",
    "<img src=\"gambar/unijoyo.png\">\n",
    "\n",
    "OLEH :\n",
    "\n",
    "Lutfi Wirananda                           (180441100051)\n",
    "\n",
    "Naufal Insan Kamil                        (180441100027)\n",
    "\n",
    "\n",
    "PEMROGRAMAN BERBASIS OBJECT\n",
    "\n",
    "\n",
    "TEKNIK SISTEM INFORMASI\n",
    "\n",
    "UNIVERSITAS TRUNOJOYO MADURA\n",
    "\n",
    "TAHUN AJARAN 2019 – 2020\n",
    "\n"
   ]
  },
  {
   "cell_type": "markdown",
   "metadata": {},
   "source": [
    "# PYGAME"
   ]
  },
  {
   "cell_type": "markdown",
   "metadata": {},
   "source": [
    "# PENGERTIAN  PYGAME\n",
    "\n",
    "pygame ( perpustakaan ) adalah perpustakaan bahasa pemrograman phyton Bebas dan Open Source untuk membuat aplikasi multimedia seperti permainan yang dibangun di atas perpustakaan SDL yang sangat baik . Seperti SDL, pygame sangat portabel dan berjalan di hampir semua platform dan sistem operasi. Jutaan orang telah mengunduh pygame itu sendiri, yang merupakan keseluruhan bit yang terbang melintasi interwebs.\n",
    "pygame.org ( situs web ) menyambut semua proyek permainan, seni, musik, suara, video, dan multimedia Python. Setelah Anda selesai memulai, Anda dapat menambahkan proyek baru atau belajar tentang pygame dengan membaca dokumen . Untuk informasi lebih lanjut tentang apa yang terjadi di dunia pygame lihat dashboard komunitas , yang berisi banyak hal seperti proyek kami yang sedang kami kerjakan, berita (blog kami dengan rss), twitter , reddit (forum), stackoverflow (Q & A), github ( pengembangan), irc (chat), mailinglist (Kami suka menulis surat elektronik satu sama lain) dan berbagai potongan dan potongan lain tentang pygame dari seluruh internet.\n",
    "pygame ( komunitas ) adalah kelompok sukarelawan kecil manusia kreatif yang membuat sesuatu (mungkin juga ada beberapa kucing, beberapa koala, lusinan doggos, 3,14 gnome, dan 42 robot yang juga mengotak-atik kita). Kami saling menghargai, dan mengikuti kode perilaku komunitas Python , sementara kami saling membantu membuat hal-hal yang menarik."
   ]
  },
  {
   "cell_type": "markdown",
   "metadata": {},
   "source": [
    "# Cara install pygame di Windows pada python 3.\n",
    "Nah pada segment yang pertama ini saya akan langsung mencoba untuk memberikan tutorial dari instalasi di sistem operasi windows. Jadi perhatikan baik - baik ya bagi kalian yang memiliki sistem operasi windows. Hehe.. Dan bagi kalian yang memiliki OS linux, kalian bisa MEMBACANYA DISINI...\n",
    "\n",
    "Nah langsung saja yuk kita simak sama - sama pembahasan mengenai caranya di bawah ini ya.. Let’s check it out temen - temen...\n",
    "\n",
    "\n",
    "Langkah 1 : Cek versi python kalian. \n",
    "Saya anggap kalian sudah install python nya ya.. jika kalian belum install python nya ya… kalian bisa baca tutorial instalasi python nya DISINI YA temen - temen…. Oke kita balik lagi ke pembahasan utama kita di postingan kali ini ya…\n",
    "\n",
    "Nah langkah yang pertama ini, kalian harus mengetahui terlebih dahulu versi python yang terinstall di PC kalian dulu ya…. Bisa dengan cara membuka IDLE python nya seperti pada gambar no 1 di bawah ini. Atau bisa juga di C:/pythonxx/python.exe seperti pada gambar no 2 di bawah ini. Maka akan muncul seperti pada gambar no 3.\n",
    "\n"
   ]
  },
  {
   "cell_type": "markdown",
   "metadata": {},
   "source": [
    "<img src=\"gambar/40.png\">"
   ]
  },
  {
   "cell_type": "markdown",
   "metadata": {},
   "source": [
    "Langkah 2 : mendownload atau mengunduh file instalasi pygame\n",
    "\n",
    "Setelah itu kalian buka browser kalian dan pergi ke pygame.org/download.shtml . nah terus, klik link seperti Pada gambar bawah ini. Atau lebih mudahnya, kalian bisa klik link ini http://www.lfd.uci.edu~gohlke/pythonlibs/#pygame\n",
    "\n",
    "<img src=\"gambar/41.png\">\n",
    "\n",
    "Nah pilih file library pygame sesuai versi python kalian yang sudah kalian cek tadi pada langkah pertama tadi ya... Untuk memudahkan pemilihan versinya, kalian bisa lihat gambar di bawah ini."
   ]
  },
  {
   "cell_type": "markdown",
   "metadata": {},
   "source": [
    "<img src=\"gambar/42.png\">\n",
    "\n",
    "Lalu download file yang sesuai versi python kalian ya… dan  harus sesuai \n",
    "\n",
    "Langkah 3 : extract file hasil download\n",
    "Nah setelah itu, silahkan cari file instalasi pygame hasil download nya tadi ya… setelah itu, ubah extensi “.whl” menjadi “.zip”. caranya bisa lihat pada gambar di bawah ini ya..\n"
   ]
  },
  {
   "cell_type": "markdown",
   "metadata": {},
   "source": [
    "<img src=\"gambar/43.png\">\n",
    "\n",
    "Setelah itu extract seperti biasa ya… dengan cara klik kanan, lalu pilih “extract”. Sekarang buka folder “pygame-1.9.2.data” hasil dari ‘extract’ tadi. Lalu buka forder “Headers”. Setelah itu select semuanya. Atau tekan “ctrl+a” setelah itu klik kanan pada mouse lalu pilih “copy”. Untuk memudahkan step ini, kalian bisa lihat gambar di bawah ini agar lebih mudah."
   ]
  },
  {
   "cell_type": "markdown",
   "metadata": {},
   "source": [
    "<img src=\"gambar/44.png\">\n",
    "\n",
    "LANGKAH 4 : PASTE FILE YANG DI COPY\n",
    "Nah setelah kalian salin file – file nya, Lalu selanjutnya silahkan kalian pergi ke drive “C”. lalu pilih folder python sesuai versi nya. Contoh “pythonXX” huruf XX ini menandakan versi python nya. Contoh “python34”. Silahkan masuk ke folder “pythonxx” nya.. lalu masuk ke folder “include”. Nah di folder ini silahkan buat folder baru dengan nama “pygame”. Lalu paste file yang sudah di copy tadi kedalam folder “pygame” ini.untuk memudahkan langkah ini, silahkan simak gambar yang ada di bawah ini.\n"
   ]
  },
  {
   "cell_type": "markdown",
   "metadata": {},
   "source": [
    "<img src=\"gambar/45.png\">\n",
    "\n",
    "langkah 5 : copy paste folder pygame.\n",
    "Setelah itu selesai, silahkan copy folder “pygame” dan “pygame-1.9.2.data” hasil extract tadi ya. INGATT!!! Folder ”pygame” yang di copy adalah folder hasil extract nya ya.. bukan folder yang kita buat tadi. Untuk lebih jelasnya lihat gambar di bawah ini.\n"
   ]
  },
  {
   "cell_type": "markdown",
   "metadata": {},
   "source": [
    "<img src=\"gambar/46.png\">\n",
    "\n",
    "Lalu silahkan masuk ke dalam drive “C” lalu masuk ke folder “pythonxx”. Setelah itu masuk ke folder “Lib”. Lalu masuk ke folder “site-packages”. Nah silahkan paste di dalam folder “site-packages” ini ya. Untuk lebih jelasnya, simak gambar di bawah ini.."
   ]
  },
  {
   "cell_type": "markdown",
   "metadata": {},
   "source": [
    "<img src=\"gambar/47.png\">\n",
    "\n",
    "Langkah 6 : Finsih dan pengecekan.\n",
    "Nah sekarang sudah selesai proses nya… namun, untuk memastikan pygame nya sudah terinstall atau belum, sekarang buka IDLE nya.. dan coba ketikkan “import pygame”. Dan jika tidak error berarti tandanya sudah berhasil seperti pada gambar yang ada di bawah ini... oke Selamat berkarya temen – temen…\n"
   ]
  },
  {
   "cell_type": "markdown",
   "metadata": {},
   "source": [
    "<img src=\"gambar/48.png\">\n",
    "\n",
    "langkah 7 : troubleshooting.\n",
    "Nah jika ada error, silahkan baca pesan error nya ya.. dan pahami… jika kalian tidak paham, bisa kalian tanyakan di kolom komentar di bawah postingan ini ya… jika saya bisa insyaallah saya akan membantunya.. karena kemungkinan permasalahannya ada pada kekeliruan pemilihan versi pygame nya saja. Yang berakibat tidak cocok dengan versi python kalian.\n"
   ]
  },
  {
   "cell_type": "markdown",
   "metadata": {},
   "source": [
    "# SOURCE CODE PYGAME RACE PERTAMA\n",
    "<img src=\"gambar/51.PNG\">\n",
    "<img src=\"gambar/52.PNG\">\n",
    "<img src=\"gambar/53.PNG\">\n",
    "<img src=\"gambar/54.PNG\">\n",
    "<img src=\"gambar/55.PNG\">\n",
    "\n",
    "# Gamenya\n",
    "\n",
    "<img src=\"gambar/49.PNG\">\n",
    "\n",
    "Terjadi Tabrakan langsung kalah\n",
    "\n",
    "<img src=\"gambar/50.PNG\">"
   ]
  },
  {
   "cell_type": "markdown",
   "metadata": {},
   "source": [
    "# SOURCE CODE PYGAME RACE FINAL\n",
    "<img src=\"gambar/56.PNG\">\n",
    "<img src=\"gambar/57.PNG\">\n",
    "<img src=\"gambar/58.PNG\">\n",
    "<img src=\"gambar/59.PNG\">\n",
    "<img src=\"gambar/60.PNG\">\n",
    "\n",
    "# Gamenya\n",
    "\n",
    "Nyawa sebelum Tabrakan 2\n",
    "\n",
    "<img src=\"gambar/61.PNG\">\n",
    "\n",
    "Setelah Tabrakan Berkurang menjadi 1\n",
    "\n",
    "<img src=\"gambar/63.PNG\">\n",
    "\n",
    "Setelah Tabrakan Berkurang menjadi 0\n",
    "\n",
    "<img src=\"gambar/64.PNG\">\n",
    "\n",
    "Eror sebab tidak ada nyawa\n",
    "\n",
    "<img src=\"gambar/65.PNG\">"
   ]
  },
  {
   "cell_type": "markdown",
   "metadata": {},
   "source": [
    "# Class Yand Di Code Race\n",
    "<img src=\"gambar/76.PNG\">\n",
    "\n",
    "\n",
    "\n",
    "# Class CarSprite\n",
    "    Class ini untukk masuk pada tampilan awal dari notebook \n",
    "    Def level1 : untuk memanggil note dari tampilan level1\n",
    "    Class CarSprite :  untuk membuat objek Mobil yang akan dijalankan\n",
    "    \n",
    "\n",
    "# Class PadSprite\n",
    "    Class PadSprite: class ini bertujuan untuk menentukan koordinasi pergerakan yang akan di lalui oleh objek mobil itu\n",
    "    Def update : untuk memperbarui dan mengedit Pergerakan dari mobil\n",
    "    \n",
    "# Class EnemySprite\n",
    "    Class Enemysprite : Class ini bertujuan untuk membuat objek musuh yang berupa mobil bergerak\n",
    "    PadsEnemy : untuk menentukan koordinasi dari pergerakan mobil musuh\n",
    "\n",
    "# Class Trophy\n",
    "    Class Trophy : untuk menampilkan gambar Trophy bila mencapai mobil finish\n",
    "    "
   ]
  },
  {
   "cell_type": "markdown",
   "metadata": {},
   "source": [
    "# KONSEP OOP\n",
    "   INHERITANCE:\n",
    "   class EnemySprite(pygame.sprite.Sprite):\n",
    "        normal = pygame.image.load('images/car.png')\n",
    "        hit = pygame.image.load('images/car_rainbow.png')\n",
    "        def __init__(self, posStart, posEnd, duration):\n",
    "            super(EnemySprite, self).__init__()\n",
    "            \n",
    "   Menggunakan Pewarisan Super"
   ]
  },
  {
   "cell_type": "markdown",
   "metadata": {},
   "source": [
    "# KIVY"
   ]
  },
  {
   "cell_type": "markdown",
   "metadata": {},
   "source": [
    "Kivy ini sendiri merupakan framework yang dibangun menggunakan library dari bahasa pemrograman Python yang bersifat Open Source. Tujuan dikembangkannya framework ini agar dapat membantu developer secara cepat dalam mengembangkan aplikasi yang memiliki tampilan antarmuka inovatif seperti aplikasi yang mendukung multitouch.\n",
    "Framework ini sendiri dapat dijalankan pada sistem operasi Windows, Mac OS X, Linux, Android, hingga Raspberry Pi. Selain itu, Kivy mendukung untuk input beragam perangkat seperti WM_Touch, WM_Pen, Mac OS X Trackpad, Magi Mouse, Mtdev, Linux Kernel HID, dan TUIO.\n",
    "Untuk memulai menggunakan framework ini developer dapat langsung mengunduh berkas instalasi pada halaman resmi unduh Kivy. Setelah selesai mengunduhnya, developer hanya tinggal mengikuti petunjuk instalasi sesuai masing-masing sistem operasi yang dipilih. Namun, bagi developer yang ingin mencoba versi pengembangan dari Kivy dapat mengambil kode sumbernya dari github.\n",
    "Setelah instalasi selesai, tim yang membangun Kivy menyarankan developer untuk mencoba tutorial pengembangan yang tersedia pada halaman tutorial Kivy. Hal ini dimaksudkan agar mempermudah developer dalam mempelajari Kivy. Selain itu, tutorial aplikasi yang ditawarkan untuk menjadi tutorial adalah pengembangan game Pong dan aplikasi Paint.\n",
    "Selanjutnya, pengguna dapat mempelajari juga deklarasi kode pemrograman dari framework ini langsung pada halaman petunjuk bahasa pemrograman pada Kivy. Hal ini bertujuan untuk membantu developer dalam memahami konsep alur utama pemrograman dalam pengembangan aplikasi menggunakan framework ini.\n",
    "Nantinya dengan framework Kivy ini developer dapat mengembangkan aplikasi pada banyak platform seperti Mac OS X, Linux, Windows, iOS, Android, hingga perangkat layar sentuh yang didukung oleh TUIO (Tangible User Interface Objects).\n",
    "Bagi developer yang tertarik menggunakan framework ini untuk mengembangkan aplikasi mobile secara multiplatform maka dapat langsung mengunjungi situs resmi Kivy. Salah satu contoh aplikasi Android yang dikembangkan menggunakan Kivy ini adalah ProcessCraft BPMN.\n"
   ]
  },
  {
   "cell_type": "markdown",
   "metadata": {},
   "source": [
    "# Cara install Kivy di Windows pada python 3.\n",
    "\n",
    "Langkah 1.\n",
    "           Mendownload aplikasi Python, versi python ada 2 jenis yaitu versi python 3.5 dan versi python 2.7. Dalam proses instalasi ini saya menggunakan python 3.5.\n",
    "<img src=\"gambar/66.jpg\">\n",
    "\n",
    "Langkah 2.\n",
    "           Setelah mendownload aplikasi python, langsung langkukan proses instalasi python dan tunggu proses instalasi python sampai selesai .\n",
    "<img src=\"gambar/67.jpg\">\n",
    "\n",
    "# Install Kivy\n",
    "Langkah 1.\n",
    "           Masuk ke CMD (Command Prompt) dengan cara menekan tombol Windows lalu ketik CMD atau dengan cara klik start, assesoris,  pilih commad promt. Maka akan masuk ke dalam kotak dialog Commad prompt.\n",
    "           \n",
    "Setelah masuk isikan coding -m pip install --upgrade pip wheel setuptools\n",
    "<img src=\"gambar/68.jpg\">\n",
    "\n",
    "Langkah 2.\n",
    "            Jika langkah pertama sudah selesai ketik perintah berikut pada cmd pula, tunggu hingga proses selesai\n",
    "\n",
    "Ketik codingan -m pip install docutils pygments pypiwin32 kivy.deps.sdl2 kivy.deps.glew\n",
    "<img src=\"gambar/69.jpg\">\n",
    "\n",
    "Langkah 4. terakhir\n",
    "            Ketik codingan di bawah ini,tunggu hingga selesai dan selamat mengerjakan.\n",
    "\n",
    "python -m pip install kivy\n",
    "<img src=\"gambar/70.jpg\">\n",
    "\n"
   ]
  },
  {
   "cell_type": "markdown",
   "metadata": {},
   "source": [
    "# SOURCE CODE KIVY CALCULATOR PERTAMA\n",
    "<img src=\"gambar/71.jpeg\">\n",
    "<img src=\"gambar/72.jpeg\">\n",
    "\n",
    "# Sebelum Modifikasi\n",
    "<img src=\"gambar/73.jpeg\">"
   ]
  },
  {
   "cell_type": "markdown",
   "metadata": {},
   "source": [
    "# SOURCE CODE KIVY CALCULATOR FINAL\n",
    "<img src=\"gambar/71.jpeg\">\n",
    "<img src=\"gambar/74.jpeg\">\n",
    "\n",
    "# Hasil Modifikasi (sqrt=akar) , (**=pangkat)\n",
    "<img src=\"gambar/75.jpeg\">"
   ]
  },
  {
   "cell_type": "markdown",
   "metadata": {},
   "source": [
    "# Class Yand Di Code KIVY\n",
    "<img src=\"gambar/77.PNG\">\n",
    "\n",
    "# Class CalcGridLayout\n",
    "    Class ini untuk membuat class baru dari class GridLayout\n",
    "    Def Calculate : untuk mengkalkulasi yang akan di operasikan\n",
    "    \n",
    "# Class CalculatorApp\n",
    "    Class ini untuk membuat class baru dari class App\n",
    "    Def build : class ini untuk membuat dan mengembalikan ke class CalcGridLayout\n"
   ]
  },
  {
   "cell_type": "markdown",
   "metadata": {},
   "source": [
    "# KONSEP OOP\n"
   ]
  }
 ],
 "metadata": {
  "kernelspec": {
   "display_name": "Python 3",
   "language": "python",
   "name": "python3"
  },
  "language_info": {
   "codemirror_mode": {
    "name": "ipython",
    "version": 3
   },
   "file_extension": ".py",
   "mimetype": "text/x-python",
   "name": "python",
   "nbconvert_exporter": "python",
   "pygments_lexer": "ipython3",
   "version": "3.7.1"
  }
 },
 "nbformat": 4,
 "nbformat_minor": 2
}
