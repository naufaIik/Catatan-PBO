{
 "cells": [
  {
   "attachments": {},
   "cell_type": "markdown",
   "metadata": {},
   "source": [
    "# Class dan Objek\n",
    "Sebuah kerangka yang berisikan method dan atribut dalam sebuah program yang kita inginkan untuk membentuk sebuah objek.\n",
    "\n",
    "Berikut cotoh gambar class dan objek:\n",
    " \n",
    "Class dari gambar tersebut adalah Motor\n",
    "Sedangkan Properti dari gambar tersebut adalah MERCEDERS,BMW,AUDI\n",
    "<img src=\"gambar/1.jpg\">\n",
    "Class sendiri ialah induk dari sebuah program\n",
    "Contoh Class dalam kodingan:\n",
    "<img src=\"gambar/2.PNG\">\n",
    "Objek ialah sebuah properti dalam sebuah class program\n",
    "Contoh properti dalam kodingan\n",
    "<img src=\"gambar/3.PNG\">\n",
    "Contoh kodingan fullnya untuk Class dan Objek:\n",
    "<img src=\"gambar/4.PNG\">\n",
    "Contoh Lainnya untuk menghitung umur:\n",
    "<img src=\"gambar/5.PNG\">\n",
    "# Inheritance\n",
    "Inheritance adalah Sebuah konsep tentang dimana sebuah subclass mengambil semua properti dan method dari class induknya.Contoh simpelnya class induknya ialah kendaraan dan sub classnya mobil,sepeda motor,dan lain.\n",
    "\n",
    "Berikut contoh gambar Inheritance:\n",
    "<img src=\"gambar/6.jpg\">\n",
    "Sub class itu adalah Sebuah kelas warisan yang mengambil properti dan method dari sebuah induk kelas.\n",
    "\n",
    "Contoh kodingan unutk sub class seperti di bawah ini:\n",
    "<img src=\"gambar/7.PNG\">\n",
    "Dan ini kodingan untuk induk class:\n",
    "<img src=\"gambar/8.PNG\">\n",
    "Dan ini kodingan fullnya untuk Inheritance:\n",
    "<img src=\"gambar/9.PNG\">\n",
    "# Type of Inheritance\n",
    "Untuk Type of Inheritance terdapat 4 macam yaitu menggunakan Default,Overriding,Super,Dan Multiple Inheritance\n",
    "Untuk Type Overriding kita dapat mewarisi salah satu tetapi tidak semuanya properti dan method yang dapat kita ambil dalam induk class tesebut dan mengubahnya di sub class.\n",
    "\n",
    "Contoh di gambar di bawah ini:\n",
    "<img src=\"gambar/10.png\">\n",
    "Contoh kodingan Type Default:\n",
    "<img src=\"gambar/11.PNG\">\n",
    "<img src=\"gambar/12.PNG\">\n",
    "Contoh kodingan untuk Type Overriding:\n",
    "<img src=\"gambar/13.PNG\">\n",
    "Untuk Type Super kita dapat mewarisi semua properti dan method yang terdapat di dalam induk class tersebut,dan kita bisa menambahkan properti dan method di sub class setelah mengambil properti dan method di induk class.\n",
    "\n",
    "Contoh Kodingan di untuk Type Super:\n",
    "<img src=\"gambar/14.PNG\">\n",
    "<img src=\"gambar/15.PNG\">\n",
    "Untuk Type Multiple Inheritance kita dapat mewarisi properti dan method dari kelas induk dan kelas lainnya,Contoh gambar di bawah ini:\n",
    "<img src=\"gambar/16.PNG\">\n",
    "Contoh kodingan Untuk Type Multiple Inheritance:\n",
    "<img src=\"gambar/17.PNG\">\n",
    "# Polymorphisme\n",
    "Polymorphisme adalah suatu objek yang memiliki beberapa bentuk atau jenis yang berbeda akan tetapi dalam satu method yang sama.Untuk Polymorphisme terbagi menjadi 2 type yaitu with funcion dan calss method\n",
    "\n",
    "Contoh gambar untuk Polymorphisme:\n",
    "<img src=\"gambar/18.PNG\">\n",
    "Untuk Contoh kodingan Polymorphisme with funcion:\n",
    "<img src=\"gambar/19.PNG\">\n",
    "<img src=\"gambar/20.PNG\">\n",
    "Untuk contoh kodingan Polymorphisme with class methood\n",
    "<img src=\"gambar/21.PNG\">\n",
    "<img src=\"gambar/22.PNG\">\n",
    "\n",
    "\n"
   ]
  },
  {
   "cell_type": "markdown",
   "metadata": {},
   "source": [
    "# Operator and Method Overloading\n",
    "(METHOD OVERLOADING)\n",
    "<img src=\"gambar/99.png\">\n",
    "\n",
    "\n",
    "Sebuah class yang mempnyai 2 atau lebih method dengan nama yang sama,dan yang membedakan hanya parameternya.\n",
    "Perbedaan yang mencakup paramaternya:\n",
    "\n",
    "1.Jumlah Parameternya\n",
    "\n",
    "2.Tipe Data dari parameternya\n",
    "\n",
    "3.Urutan dari tipe data parameter"
   ]
  },
  {
   "cell_type": "code",
   "execution_count": 3,
   "metadata": {},
   "outputs": [
    {
     "name": "stdout",
     "output_type": "stream",
     "text": [
      "100\n",
      "HIGeeks\n"
     ]
    }
   ],
   "source": [
    "def add(datatype,*args):\n",
    "    if datatype==\"int\":\n",
    "        answer = 0\n",
    "    if datatype==\"str\":\n",
    "        answer = \"\"\n",
    "    for x in args:\n",
    "        answer = answer + x\n",
    "    print(answer)\n",
    "#integer\n",
    "add(\"int\",5,6,7,82)\n",
    "#string\n",
    "add(\"str\",\"HI\",\"Geeks\")"
   ]
  },
  {
   "cell_type": "markdown",
   "metadata": {},
   "source": [
    "(OPERATOR OVERLOADING)\n",
    "<img src=\"gambar/baru1.png\">\n",
    "\n",
    "Operator overloading adalah operator dimana memiliki implementasi yang berbeda tergantung dengan argumen kita.Overloading operator ditentukan oleh bahasa pemograman,programer,atau keduanya"
   ]
  },
  {
   "cell_type": "code",
   "execution_count": 4,
   "metadata": {},
   "outputs": [
    {
     "name": "stdout",
     "output_type": "stream",
     "text": [
      "410\n"
     ]
    }
   ],
   "source": [
    "print(10 + 400)\n",
    "#print(\"ten\" - \"sor\")"
   ]
  },
  {
   "cell_type": "markdown",
   "metadata": {},
   "source": [
    "# Magic Method\n",
    "<img src=\"gambar/baru3.png\"> <img src=\"gambar/baru.jng\">\n",
    "\n",
    "Operator yang dicapai dengan mendefinisikan metode khusus dalam kelas.\n"
   ]
  },
  {
   "cell_type": "code",
   "execution_count": 5,
   "metadata": {},
   "outputs": [
    {
     "name": "stdout",
     "output_type": "stream",
     "text": [
      "Hello \n",
      "Hello Guido\n"
     ]
    }
   ],
   "source": [
    "class Human: \n",
    "    def sayHello(self, name=None):\n",
    "        if name is not None:\n",
    "            print ('Hello ' + name)\n",
    "        else:\n",
    "            print ('Hello ')\n",
    " \n",
    "# Create instance\n",
    "obj = Human()\n",
    " \n",
    "# Call the method\n",
    "obj.sayHello()\n",
    " \n",
    "# Call the method with a parameter\n",
    "obj.sayHello('Guido')"
   ]
  },
  {
   "cell_type": "markdown",
   "metadata": {},
   "source": [
    "<img src=\"gambar/baru3.png\">\n",
    " <img src=\"gambar/baru5.png\">\n",
    " <img src=\"gambar/baru4.png\">"
   ]
  },
  {
   "cell_type": "markdown",
   "metadata": {},
   "source": [
    "Contoh Kodingan:"
   ]
  },
  {
   "cell_type": "code",
   "execution_count": 11,
   "metadata": {},
   "outputs": [
    {
     "name": "stdout",
     "output_type": "stream",
     "text": [
      "Point object is at:(3,1)\n",
      "Point object is at:(1,5)\n"
     ]
    }
   ],
   "source": [
    "class Point:\n",
    "    def __init__(self, x , y):\n",
    "        self.x = x\n",
    "        self.y = y\n",
    "    #def __str__(self):\n",
    "        #return \"({0},{1})\".format(self.x,self.y)\n",
    "    def __str__(self):\n",
    "        return \"Point object is at:(\"+str(self.x)+\",\"+str(self.y)+\")\"\n",
    "    def __sub__(self,other):\n",
    "        x = self.x - other.x\n",
    "        y = self.y - other.y\n",
    "        return Point(x,y)\n",
    "    def __add__(self,other):\n",
    "        x = self.x + other.x\n",
    "        y = self.y + other.y\n",
    "        return Point(x,y)\n",
    "    \n",
    "p1 = Point(2,3)\n",
    "p2 = Point(-1,2)\n",
    "print(p1-p2)\n",
    "print(p1+p2)"
   ]
  },
  {
   "cell_type": "code",
   "execution_count": 12,
   "metadata": {},
   "outputs": [
    {
     "name": "stdout",
     "output_type": "stream",
     "text": [
      "2/4\n",
      "6/8\n",
      "2/4\n"
     ]
    }
   ],
   "source": [
    "\n",
    "class Fraction:\n",
    "    def __init__(self,top,bottom):\n",
    "        self.num = top\n",
    "        self.den = bottom\n",
    "    #def show(self):\n",
    "    #   print( str(self.num)+\"/\"+str(self.den) )\n",
    "    def __str__(self):\n",
    "        return str(self.num)+\"/\"+str(self.den)\n",
    "    def __add__(self,otherfraction):\n",
    "        newnum = self.num*otherfraction.den+self.den*otherfraction.num\n",
    "        newden = self.den * otherfraction.den\n",
    "        return Fraction(newnum,newden)\n",
    "    def __truediv__(self,otherfraction):\n",
    "        newnum = self.num * otherfraction.den\n",
    "        newden = self.den * otherfraction.num\n",
    "        return Fraction(newnum,newden)\n",
    "f = Fraction(2,4)\n",
    "#f.show()\n",
    "print(f)\n",
    "f1 = Fraction(1,4)\n",
    "f2 = Fraction(1,2)\n",
    "print(f1+f2)\n",
    "print(f1/f2)"
   ]
  },
  {
   "cell_type": "markdown",
   "metadata": {},
   "source": [
    "# Encapsulation\n",
    "<img src=\"gambar/baru7.png\">\n",
    "\n",
    "Enkapsulasi adalah pembungkus, pembungkus disini dimaksudkan untuk menjaga suatu proses program agar tidak dapat diakses secara sembarangan atau di intervensi oleh program lain. Konsep enkapsulasi sangat penting dilakukan untuk menjaga kebutuhan program agar dapat diakses sewaktu-waktu, sekaligus menjaga program tersebut.\n",
    "<img src=\"gambar/baru6.png\">\n",
    "\n",
    "Dalam kehidupan sehari hari enkapsulasi dapat dimisalkan sebagai arus listrik pada generator, dan sistem perputaran generator untuk menghasilkan arus listrik. Kerja arus listrik tidak mempengaruhi kerja dari sistem perputaran generator, begitu pula sebaliknya. Karena didalam arus listrik tersebut, kita tidak perlu mengetahui bagaimana kinerja sistem perputaran generator, apakah generator berputar kebelakang atau ke depan atau bahkan serong. Begitu pula dalam sistem perputaran generator, kita tidak perlu tahu bagaimana arus listrik, apakah menyala atau tidak."
   ]
  },
  {
   "cell_type": "code",
   "execution_count": 13,
   "metadata": {},
   "outputs": [
    {
     "name": "stdout",
     "output_type": "stream",
     "text": [
      "22\n",
      "23\n",
      "23\n"
     ]
    }
   ],
   "source": [
    "class Robot(object):\n",
    "    def __init__(self):\n",
    "        self.__version = 22\n",
    "    def getVersion(self):\n",
    "        print(self.__version)\n",
    "    def setVersion(self,version):\n",
    "        self.__version = version\n",
    "        \n",
    "obj = Robot()\n",
    "obj.getVersion()\n",
    "obj.setVersion(23)\n",
    "obj.getVersion()\n",
    "#print(obj.__version) #jika tanpa komentar akan eror\n",
    "print(obj._Robot__version) #Harus memasukan nama class karena tidak bisa diakses dari luar class"
   ]
  },
  {
   "cell_type": "code",
   "execution_count": 14,
   "metadata": {},
   "outputs": [
    {
     "name": "stdout",
     "output_type": "stream",
     "text": [
      "This is a public method\n",
      "This is a private method\n",
      "This is another private method\n"
     ]
    }
   ],
   "source": [
    "class A(object):\n",
    "    #public method\n",
    "    def myPublicMethod(self):\n",
    "        return \"This is a public method\"\n",
    "    #private method with single underscore\n",
    "    def _myPrivateMethod(self):\n",
    "        return \"This is a private method\"\n",
    "    #private method with double underscore\n",
    "    def __myAnotherPrivateMethod(self):\n",
    "        return \"This is another private method\"\n",
    "#nama objek\n",
    "obj1 = A()\n",
    "#we can access the public mehod which is cool\n",
    "print(obj1.myPublicMethod())\n",
    "#Note that we can also access the private method from outside\n",
    "print(obj1._myPrivateMethod())\n",
    "#However, you can still call the double underscore method\n",
    "#by appending the _class name before method name\n",
    "print(obj1._A__myAnotherPrivateMethod())"
   ]
  },
  {
   "cell_type": "markdown",
   "metadata": {},
   "source": [
    "# Private Method\n",
    "<img src=\"gambar/baru8.png\">"
   ]
  },
  {
   "cell_type": "code",
   "execution_count": 15,
   "metadata": {},
   "outputs": [
    {
     "name": "stdout",
     "output_type": "stream",
     "text": [
      "updating software\n",
      "driving\n"
     ]
    }
   ],
   "source": [
    "class Car:\n",
    "    def __init__(self):\n",
    "        self.__updateSoftware()\n",
    " \n",
    "    def drive(self):\n",
    "        print ('driving')\n",
    " \n",
    "    def __updateSoftware(self):\n",
    "        print ('updating software')\n",
    "        \n",
    "redcar = Car()\n",
    "redcar.drive()\n",
    "#redcar.__updateSoftware()  not accesible from object."
   ]
  },
  {
   "cell_type": "code",
   "execution_count": 16,
   "metadata": {},
   "outputs": [
    {
     "name": "stdout",
     "output_type": "stream",
     "text": [
      "updating software\n"
     ]
    }
   ],
   "source": [
    "redcar._Car__updateSoftware()"
   ]
  },
  {
   "cell_type": "markdown",
   "metadata": {},
   "source": [
    "<img src=\"gambar/baru9.png\">"
   ]
  },
  {
   "cell_type": "code",
   "execution_count": 17,
   "metadata": {},
   "outputs": [
    {
     "name": "stdout",
     "output_type": "stream",
     "text": [
      "driving. maxspeed 200\n",
      "driving. maxspeed 200\n",
      "driving. maxspeed 10\n",
      "driving. maxspeed 15\n"
     ]
    }
   ],
   "source": [
    "class Car:\n",
    "    __maxspeed = 0\n",
    "    __name = \"\"\n",
    "\n",
    "    def __init__(self):\n",
    "        self.__maxspeed = 200\n",
    "        self.__name = (\"Supercar\")\n",
    "\n",
    "    def drive(self):\n",
    "        print ('driving. maxspeed ' + str(self.__maxspeed))\n",
    "    \n",
    "    def setMaxSpeed(self,speed):\n",
    "        self.__maxspeed = speed\n",
    "        \n",
    "redcar = Car()\n",
    "redcar.drive()\n",
    "redcar.__maxspeed = 10  # will not change variable because its private\n",
    "redcar.drive()\n",
    "redcar._Car__maxspeed = 10 #Harus menggunakan _class sebelum nama method\n",
    "redcar.drive()\n",
    "#Atau bisa menggunakan method\n",
    "redcar.setMaxSpeed(15)\n",
    "redcar.drive()"
   ]
  }
 ],
 "metadata": {
  "kernelspec": {
   "display_name": "Python 3",
   "language": "python",
   "name": "python3"
  },
  "language_info": {
   "codemirror_mode": {
    "name": "ipython",
    "version": 3
   },
   "file_extension": ".py",
   "mimetype": "text/x-python",
   "name": "python",
   "nbconvert_exporter": "python",
   "pygments_lexer": "ipython3",
   "version": "3.7.1"
  }
 },
 "nbformat": 4,
 "nbformat_minor": 2
}
